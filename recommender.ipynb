{
 "cells": [
  {
   "cell_type": "markdown",
   "id": "531a9e7f",
   "metadata": {},
   "source": [
    "# Collaborative Filtering Recommender - Steam Games\n",
    "In this personal project, I build a user-user collaborative filtering recommender algorithm for video games on steam. I saw the data on kaggle and thought it was super cool and wanted to see what I could come up with!"
   ]
  },
  {
   "cell_type": "code",
   "execution_count": 62,
   "id": "819a3c6d",
   "metadata": {},
   "outputs": [],
   "source": [
    "import numpy as np\n",
    "import pandas as pd\n",
    "import matplotlib.pyplot as plt\n",
    "from sklearn.preprocessing import MinMaxScaler\n",
    "from sklearn.metrics.pairwise import cosine_similarity\n",
    "from sklearn.preprocessing import QuantileTransformer\n",
    "from sklearn.preprocessing import RobustScaler\n",
    "from sklearn.preprocessing import PowerTransformer"
   ]
  },
  {
   "cell_type": "markdown",
   "id": "73e015b7",
   "metadata": {},
   "source": [
    "## Data Pre-Processing\n",
    "The data [(found here)](https://www.kaggle.com/datasets/tamber/steam-video-games/data) comes from Kaggle and contains about 200k Steam (a platform for downloading and playing games) user interactions. These interactions record a user purchasing a game, playing it, and the number of hours they played. Below, I import the data and get a first look at its structure."
   ]
  },
  {
   "cell_type": "code",
   "execution_count": 63,
   "id": "98be239c",
   "metadata": {},
   "outputs": [
    {
     "name": "stdout",
     "output_type": "stream",
     "text": [
      "   151603712  The Elder Scrolls V Skyrim  purchase    1.0  0\n",
      "0  151603712  The Elder Scrolls V Skyrim      play  273.0  0\n",
      "1  151603712                   Fallout 4  purchase    1.0  0\n",
      "2  151603712                   Fallout 4      play   87.0  0\n",
      "3  151603712                       Spore  purchase    1.0  0\n",
      "4  151603712                       Spore      play   14.9  0\n"
     ]
    }
   ],
   "source": [
    "#Load data\n",
    "\n",
    "# Replace 'your_file_path.csv' with the path to your CSV file\n",
    "file_path = 'steam-200k.csv'\n",
    "\n",
    "# Import the CSV file\n",
    "df = pd.read_csv(file_path)\n",
    "\n",
    "# Display the first few rows of the dataframe\n",
    "print(df.head())"
   ]
  },
  {
   "cell_type": "code",
   "execution_count": 64,
   "id": "747856aa",
   "metadata": {},
   "outputs": [],
   "source": [
    "df.columns = ['user_id', 'game_name', 'purchase_type', 'hours_played','na']"
   ]
  },
  {
   "cell_type": "code",
   "execution_count": 65,
   "id": "a7f8a223",
   "metadata": {},
   "outputs": [
    {
     "name": "stdout",
     "output_type": "stream",
     "text": [
      "     user_id                   game_name purchase_type  hours_played  na\n",
      "0  151603712  The Elder Scrolls V Skyrim          play         273.0   0\n",
      "1  151603712                   Fallout 4      purchase           1.0   0\n",
      "2  151603712                   Fallout 4          play          87.0   0\n",
      "3  151603712                       Spore      purchase           1.0   0\n",
      "4  151603712                       Spore          play          14.9   0\n"
     ]
    }
   ],
   "source": [
    "print(df.head())"
   ]
  },
  {
   "cell_type": "code",
   "execution_count": 66,
   "id": "0cdff437",
   "metadata": {},
   "outputs": [
    {
     "name": "stdout",
     "output_type": "stream",
     "text": [
      "['The Elder Scrolls V Skyrim' 'Fallout 4' 'Spore' 'Fallout New Vegas'\n",
      " 'Left 4 Dead 2' 'HuniePop' 'Path of Exile' 'Poly Bridge' 'Left 4 Dead'\n",
      " 'Team Fortress 2']\n"
     ]
    }
   ],
   "source": [
    "# Assuming 'df' is your DataFrame and it has a column 'game_name'\n",
    "\n",
    "# Print 200 unique game names from 'game_name' column\n",
    "unique_game_names = df['game_name'].unique()[:10]\n",
    "print(unique_game_names)\n"
   ]
  },
  {
   "cell_type": "markdown",
   "id": "58934d87",
   "metadata": {},
   "source": [
    "Unintuitively, you can see the data is segregated on purchase type and a user/game pair often have two entries. While potentially helpful in other contexts, I don't see how that would help us so I just aggregated those entries together as follows:"
   ]
  },
  {
   "cell_type": "code",
   "execution_count": 67,
   "id": "ad583e12",
   "metadata": {},
   "outputs": [],
   "source": [
    "aggregated_data = df.groupby(['user_id', 'game_name']).agg({\n",
    "    'purchase_type': 'max',  # Assuming 'purchase' > 'play' if sorted, otherwise adjust logic\n",
    "    'hours_played': 'sum'  # Sum hours played for both purchase and play records\n",
    "}).reset_index()"
   ]
  },
  {
   "cell_type": "code",
   "execution_count": 68,
   "id": "fda10167",
   "metadata": {},
   "outputs": [
    {
     "data": {
      "text/html": [
       "<div>\n",
       "<style scoped>\n",
       "    .dataframe tbody tr th:only-of-type {\n",
       "        vertical-align: middle;\n",
       "    }\n",
       "\n",
       "    .dataframe tbody tr th {\n",
       "        vertical-align: top;\n",
       "    }\n",
       "\n",
       "    .dataframe thead th {\n",
       "        text-align: right;\n",
       "    }\n",
       "</style>\n",
       "<table border=\"1\" class=\"dataframe\">\n",
       "  <thead>\n",
       "    <tr style=\"text-align: right;\">\n",
       "      <th></th>\n",
       "      <th>user_id</th>\n",
       "      <th>game_name</th>\n",
       "      <th>purchase_type</th>\n",
       "      <th>hours_played</th>\n",
       "    </tr>\n",
       "  </thead>\n",
       "  <tbody>\n",
       "    <tr>\n",
       "      <th>0</th>\n",
       "      <td>5250</td>\n",
       "      <td>Alien Swarm</td>\n",
       "      <td>purchase</td>\n",
       "      <td>5.9</td>\n",
       "    </tr>\n",
       "    <tr>\n",
       "      <th>1</th>\n",
       "      <td>5250</td>\n",
       "      <td>Cities Skylines</td>\n",
       "      <td>purchase</td>\n",
       "      <td>145.0</td>\n",
       "    </tr>\n",
       "    <tr>\n",
       "      <th>2</th>\n",
       "      <td>5250</td>\n",
       "      <td>Counter-Strike</td>\n",
       "      <td>purchase</td>\n",
       "      <td>1.0</td>\n",
       "    </tr>\n",
       "    <tr>\n",
       "      <th>3</th>\n",
       "      <td>5250</td>\n",
       "      <td>Counter-Strike Source</td>\n",
       "      <td>purchase</td>\n",
       "      <td>1.0</td>\n",
       "    </tr>\n",
       "    <tr>\n",
       "      <th>4</th>\n",
       "      <td>5250</td>\n",
       "      <td>Day of Defeat</td>\n",
       "      <td>purchase</td>\n",
       "      <td>1.0</td>\n",
       "    </tr>\n",
       "    <tr>\n",
       "      <th>...</th>\n",
       "      <td>...</td>\n",
       "      <td>...</td>\n",
       "      <td>...</td>\n",
       "      <td>...</td>\n",
       "    </tr>\n",
       "    <tr>\n",
       "      <th>128799</th>\n",
       "      <td>309626088</td>\n",
       "      <td>Age of Empires II HD Edition</td>\n",
       "      <td>purchase</td>\n",
       "      <td>7.7</td>\n",
       "    </tr>\n",
       "    <tr>\n",
       "      <th>128800</th>\n",
       "      <td>309812026</td>\n",
       "      <td>Counter-Strike Nexon Zombies</td>\n",
       "      <td>purchase</td>\n",
       "      <td>1.0</td>\n",
       "    </tr>\n",
       "    <tr>\n",
       "      <th>128801</th>\n",
       "      <td>309812026</td>\n",
       "      <td>Robocraft</td>\n",
       "      <td>purchase</td>\n",
       "      <td>1.0</td>\n",
       "    </tr>\n",
       "    <tr>\n",
       "      <th>128802</th>\n",
       "      <td>309824202</td>\n",
       "      <td>Dota 2</td>\n",
       "      <td>purchase</td>\n",
       "      <td>1.7</td>\n",
       "    </tr>\n",
       "    <tr>\n",
       "      <th>128803</th>\n",
       "      <td>309903146</td>\n",
       "      <td>Dota 2</td>\n",
       "      <td>purchase</td>\n",
       "      <td>1.2</td>\n",
       "    </tr>\n",
       "  </tbody>\n",
       "</table>\n",
       "<p>128804 rows × 4 columns</p>\n",
       "</div>"
      ],
      "text/plain": [
       "          user_id                     game_name purchase_type  hours_played\n",
       "0            5250                   Alien Swarm      purchase           5.9\n",
       "1            5250               Cities Skylines      purchase         145.0\n",
       "2            5250                Counter-Strike      purchase           1.0\n",
       "3            5250         Counter-Strike Source      purchase           1.0\n",
       "4            5250                 Day of Defeat      purchase           1.0\n",
       "...           ...                           ...           ...           ...\n",
       "128799  309626088  Age of Empires II HD Edition      purchase           7.7\n",
       "128800  309812026  Counter-Strike Nexon Zombies      purchase           1.0\n",
       "128801  309812026                     Robocraft      purchase           1.0\n",
       "128802  309824202                        Dota 2      purchase           1.7\n",
       "128803  309903146                        Dota 2      purchase           1.2\n",
       "\n",
       "[128804 rows x 4 columns]"
      ]
     },
     "execution_count": 68,
     "metadata": {},
     "output_type": "execute_result"
    }
   ],
   "source": [
    "aggregated_data"
   ]
  },
  {
   "cell_type": "markdown",
   "id": "81d09e62",
   "metadata": {},
   "source": [
    "This following cell is not important until later. I wanted to train the data with myself as a user, so I appended some entries for myself so that when the recommendation system was built I could recommend to myself as well! I filled out the columns with plausible data representing some games I like."
   ]
  },
  {
   "cell_type": "code",
   "execution_count": 69,
   "id": "30f87727",
   "metadata": {},
   "outputs": [],
   "source": [
    "my_entries = {\n",
    "    'user_id': [999999999, 999999999, 999999999, 999999999, 999999999],\n",
    "    'game_name': ['Spore','Terraria','The Sims(TM) 3', 'Rocket League','LEGO Harry Potter Years 5-7'],\n",
    "    'purchase_type':['purchase','purchase','purchase','purchase','purchase'],\n",
    "    'hours_played': [20, 10, 10, 8, 3]\n",
    "}\n",
    "\n",
    "aggregated_data = pd.concat([aggregated_data, pd.DataFrame(my_entries)], ignore_index=True)\n"
   ]
  },
  {
   "cell_type": "code",
   "execution_count": 70,
   "id": "bc06f985",
   "metadata": {},
   "outputs": [
    {
     "data": {
      "text/html": [
       "<div>\n",
       "<style scoped>\n",
       "    .dataframe tbody tr th:only-of-type {\n",
       "        vertical-align: middle;\n",
       "    }\n",
       "\n",
       "    .dataframe tbody tr th {\n",
       "        vertical-align: top;\n",
       "    }\n",
       "\n",
       "    .dataframe thead th {\n",
       "        text-align: right;\n",
       "    }\n",
       "</style>\n",
       "<table border=\"1\" class=\"dataframe\">\n",
       "  <thead>\n",
       "    <tr style=\"text-align: right;\">\n",
       "      <th></th>\n",
       "      <th>user_id</th>\n",
       "      <th>game_name</th>\n",
       "      <th>purchase_type</th>\n",
       "      <th>hours_played</th>\n",
       "    </tr>\n",
       "  </thead>\n",
       "  <tbody>\n",
       "    <tr>\n",
       "      <th>0</th>\n",
       "      <td>5250</td>\n",
       "      <td>Alien Swarm</td>\n",
       "      <td>purchase</td>\n",
       "      <td>5.9</td>\n",
       "    </tr>\n",
       "    <tr>\n",
       "      <th>1</th>\n",
       "      <td>5250</td>\n",
       "      <td>Cities Skylines</td>\n",
       "      <td>purchase</td>\n",
       "      <td>145.0</td>\n",
       "    </tr>\n",
       "    <tr>\n",
       "      <th>2</th>\n",
       "      <td>5250</td>\n",
       "      <td>Counter-Strike</td>\n",
       "      <td>purchase</td>\n",
       "      <td>1.0</td>\n",
       "    </tr>\n",
       "    <tr>\n",
       "      <th>3</th>\n",
       "      <td>5250</td>\n",
       "      <td>Counter-Strike Source</td>\n",
       "      <td>purchase</td>\n",
       "      <td>1.0</td>\n",
       "    </tr>\n",
       "    <tr>\n",
       "      <th>4</th>\n",
       "      <td>5250</td>\n",
       "      <td>Day of Defeat</td>\n",
       "      <td>purchase</td>\n",
       "      <td>1.0</td>\n",
       "    </tr>\n",
       "    <tr>\n",
       "      <th>...</th>\n",
       "      <td>...</td>\n",
       "      <td>...</td>\n",
       "      <td>...</td>\n",
       "      <td>...</td>\n",
       "    </tr>\n",
       "    <tr>\n",
       "      <th>128804</th>\n",
       "      <td>999999999</td>\n",
       "      <td>Spore</td>\n",
       "      <td>purchase</td>\n",
       "      <td>20.0</td>\n",
       "    </tr>\n",
       "    <tr>\n",
       "      <th>128805</th>\n",
       "      <td>999999999</td>\n",
       "      <td>Terraria</td>\n",
       "      <td>purchase</td>\n",
       "      <td>10.0</td>\n",
       "    </tr>\n",
       "    <tr>\n",
       "      <th>128806</th>\n",
       "      <td>999999999</td>\n",
       "      <td>The Sims(TM) 3</td>\n",
       "      <td>purchase</td>\n",
       "      <td>10.0</td>\n",
       "    </tr>\n",
       "    <tr>\n",
       "      <th>128807</th>\n",
       "      <td>999999999</td>\n",
       "      <td>Rocket League</td>\n",
       "      <td>purchase</td>\n",
       "      <td>8.0</td>\n",
       "    </tr>\n",
       "    <tr>\n",
       "      <th>128808</th>\n",
       "      <td>999999999</td>\n",
       "      <td>LEGO Harry Potter Years 5-7</td>\n",
       "      <td>purchase</td>\n",
       "      <td>3.0</td>\n",
       "    </tr>\n",
       "  </tbody>\n",
       "</table>\n",
       "<p>128809 rows × 4 columns</p>\n",
       "</div>"
      ],
      "text/plain": [
       "          user_id                    game_name purchase_type  hours_played\n",
       "0            5250                  Alien Swarm      purchase           5.9\n",
       "1            5250              Cities Skylines      purchase         145.0\n",
       "2            5250               Counter-Strike      purchase           1.0\n",
       "3            5250        Counter-Strike Source      purchase           1.0\n",
       "4            5250                Day of Defeat      purchase           1.0\n",
       "...           ...                          ...           ...           ...\n",
       "128804  999999999                        Spore      purchase          20.0\n",
       "128805  999999999                     Terraria      purchase          10.0\n",
       "128806  999999999               The Sims(TM) 3      purchase          10.0\n",
       "128807  999999999                Rocket League      purchase           8.0\n",
       "128808  999999999  LEGO Harry Potter Years 5-7      purchase           3.0\n",
       "\n",
       "[128809 rows x 4 columns]"
      ]
     },
     "execution_count": 70,
     "metadata": {},
     "output_type": "execute_result"
    }
   ],
   "source": [
    "aggregated_data"
   ]
  },
  {
   "cell_type": "markdown",
   "id": "ef62b10e",
   "metadata": {},
   "source": [
    "### Exploring the \"Hours Played\" Feature"
   ]
  },
  {
   "cell_type": "markdown",
   "id": "0bf7fcd2",
   "metadata": {},
   "source": [
    "To get a recommendation algorithm that can recommend games one might like, I think the most relevant feature from our data is hours played. For this project, I am not trying to build a system that optimizes clicks on the game or is aimed at getting someone to buy a new game. Rather, I just want to recommend what games a person might enjoy and spend more time playing. So this feature turns out to be perfect. \n",
    "\n",
    "Were I trying to build a system that optimized buying or clicking on a game, this recommendation algorithm could serve as a useful approximation but would benefit from some adjustments. I would definitely want to introduce whether or not the game was bought into the feature more prominently than just linearly represented game played (i.e. +10 hours added to the feature if game bought rather than played). That's all speculative though, and I'm happy to build a model where hours_played is the primary feature to probe at a more fun question of what games people might like to play more based on games they've already played.\n",
    "\n",
    "Below I look at the data more closely to see what kind of scaling needs to be done."
   ]
  },
  {
   "cell_type": "code",
   "execution_count": 71,
   "id": "fefdb7c6",
   "metadata": {},
   "outputs": [
    {
     "data": {
      "image/png": "[encoded data removed]",
      "text/plain": [
       "<Figure size 640x480 with 1 Axes>"
      ]
     },
     "metadata": {},
     "output_type": "display_data"
    }
   ],
   "source": [
    "plt.hist(aggregated_data['hours_played'],bins=100);\n",
    "plt.title(\"Histogram of Hours Played\");\n",
    "plt.ylabel(\"count\");\n",
    "plt.xlabel(\"Hours played\");"
   ]
  },
  {
   "cell_type": "markdown",
   "id": "98466fdd",
   "metadata": {},
   "source": [
    "Yikes"
   ]
  },
  {
   "cell_type": "markdown",
   "id": "7964bc54",
   "metadata": {},
   "source": [
    "Looks like some high outliers are in the data."
   ]
  },
  {
   "cell_type": "code",
   "execution_count": 72,
   "id": "e055be56",
   "metadata": {},
   "outputs": [
    {
     "data": {
      "text/plain": [
       "11755.0"
      ]
     },
     "execution_count": 72,
     "metadata": {},
     "output_type": "execute_result"
    }
   ],
   "source": [
    "max(aggregated_data['hours_played'])"
   ]
  },
  {
   "cell_type": "markdown",
   "id": "78688999",
   "metadata": {},
   "source": [
    "Yeah a max value around 11755 with most data around 5-30 seems cause for some normalization. MinMax likely wouldn't be the best solution here given that I want to minimize the effect of outliers, too."
   ]
  },
  {
   "cell_type": "code",
   "execution_count": 73,
   "id": "411a5a8a",
   "metadata": {},
   "outputs": [],
   "source": [
    "#normalize data\n",
    "scaler = MinMaxScaler()\n",
    "minMaxScalerCheck = scaler.fit_transform(np.array(aggregated_data['hours_played']).reshape(-1, 1))"
   ]
  },
  {
   "cell_type": "code",
   "execution_count": 74,
   "id": "e836cbec",
   "metadata": {},
   "outputs": [
    {
     "data": {
      "image/png": "[encoded data removed]",
      "text/plain": [
       "<Figure size 640x480 with 1 Axes>"
      ]
     },
     "metadata": {},
     "output_type": "display_data"
    }
   ],
   "source": [
    "plt.hist(minMaxScalerCheck,bins=100);\n",
    "plt.title(\"Min Max: Histogram of Hours Played\");\n",
    "plt.ylabel(\"count\");\n",
    "plt.xlabel(\"Hours played\");"
   ]
  },
  {
   "cell_type": "markdown",
   "id": "267cc23c",
   "metadata": {},
   "source": [
    "Ew. Not pretty. This suggests outliers at 1 while most of the data is clumped <0.5. I will consider other normalization techniques."
   ]
  },
  {
   "cell_type": "code",
   "execution_count": 75,
   "id": "42f97941",
   "metadata": {},
   "outputs": [],
   "source": [
    "scaler = QuantileTransformer(output_distribution='uniform')\n",
    "quantileTransformerCheck = scaler.fit_transform(np.array(aggregated_data['hours_played']).reshape(-1, 1))"
   ]
  },
  {
   "cell_type": "code",
   "execution_count": 76,
   "id": "44d34022",
   "metadata": {},
   "outputs": [
    {
     "data": {
      "image/png": "[encoded data removed]",
      "text/plain": [
       "<Figure size 640x480 with 1 Axes>"
      ]
     },
     "metadata": {},
     "output_type": "display_data"
    }
   ],
   "source": [
    "plt.hist(quantileTransformerCheck,bins=100);\n",
    "plt.title(\"Qualtile Transform: Histogram of Hours Played\");\n",
    "plt.ylabel(\"count\");\n",
    "plt.xlabel(\"Hours played\");"
   ]
  },
  {
   "cell_type": "markdown",
   "id": "b3725b93",
   "metadata": {},
   "source": [
    "This technique still doesn't do a great job at normalizing. The fact that so much data stands at 1 hour of play given how the data is recorded. This is a bad solution because it moves just playing a little over an hour so far from the data where hours_played = 1, that this would make our model unfairly weight any amount of play >1 hour disproportiately more in our recommendation."
   ]
  },
  {
   "cell_type": "code",
   "execution_count": 77,
   "id": "f43d3225",
   "metadata": {},
   "outputs": [],
   "source": [
    "scaler = RobustScaler()\n",
    "robustScalerCheck = scaler.fit_transform(np.array(aggregated_data['hours_played']).reshape(-1, 1))"
   ]
  },
  {
   "cell_type": "code",
   "execution_count": 78,
   "id": "9ecf95dd",
   "metadata": {},
   "outputs": [
    {
     "data": {
      "image/png": "[encoded data removed]",
      "text/plain": [
       "<Figure size 640x480 with 1 Axes>"
      ]
     },
     "metadata": {},
     "output_type": "display_data"
    }
   ],
   "source": [
    "plt.hist(robustScalerCheck,bins=100);\n",
    "plt.title(\"Robust Scaler Check: Histogram of Hours Played\");\n",
    "plt.ylabel(\"count\");\n",
    "plt.xlabel(\"Hours played\");"
   ]
  },
  {
   "cell_type": "markdown",
   "id": "d8ca5a04",
   "metadata": {},
   "source": [
    "Well, that at least reduced most of the data to more reasonable values but didn't make it look more gaussian (as this function can't change the shape of the histogram other than scaling and recentering)."
   ]
  },
  {
   "cell_type": "code",
   "execution_count": 79,
   "id": "6414ea71",
   "metadata": {},
   "outputs": [
    {
     "data": {
      "image/png": "[encoded data removed]",
      "text/plain": [
       "<Figure size 640x480 with 1 Axes>"
      ]
     },
     "metadata": {},
     "output_type": "display_data"
    }
   ],
   "source": [
    "plt.hist(robustScalerCheck,bins=100,range=(-10,10));\n",
    "plt.title(\"Robust Scaler Check: Histogram of Hours Played - zoomed in\");\n",
    "plt.ylabel(\"count\");\n",
    "plt.xlabel(\"Hours played\");"
   ]
  },
  {
   "cell_type": "code",
   "execution_count": 80,
   "id": "51fd3041",
   "metadata": {},
   "outputs": [],
   "source": [
    "scaler = PowerTransformer()\n",
    "powerTransformCheck = scaler.fit_transform(np.array(aggregated_data['hours_played']).reshape(-1, 1))"
   ]
  },
  {
   "cell_type": "code",
   "execution_count": 81,
   "id": "0c5e45e4",
   "metadata": {},
   "outputs": [
    {
     "data": {
      "image/png": "[encoded data removed]",
      "text/plain": [
       "<Figure size 640x480 with 1 Axes>"
      ]
     },
     "metadata": {},
     "output_type": "display_data"
    }
   ],
   "source": [
    "plt.hist(powerTransformCheck,bins=100);\n",
    "plt.title(\"Power Transform: Histogram of Hours Played\");\n",
    "plt.ylabel(\"count\");\n",
    "plt.xlabel(\"Hours played\");"
   ]
  },
  {
   "cell_type": "markdown",
   "id": "f3482a79",
   "metadata": {},
   "source": [
    "I'm not content with this and am now after trying these simple solutions convinced that forcing away the outliers messes with the lower levels of hours played more than it helps them. The problem of these higher outliers still exists, and should be noted. We will make sure that the algorithm we make is robust to handle users whose game played time is astronomically higher than others. More on that as the model is built.\n",
    "\n",
    "For now, I will use robust scaler as the best method so the scaling is not controlled by outliers, and still gets the data down to more a reasonable scale in most instances. I will cap out the maximum play time value so that the outliers do not have disparate impact. I choose with_centering false because, in principle, I would like any amount of hours played to be considered \"positive\"."
   ]
  },
  {
   "cell_type": "code",
   "execution_count": 82,
   "id": "5406fa6f",
   "metadata": {},
   "outputs": [],
   "source": [
    "scaler = RobustScaler(with_centering=False, with_scaling=True)\n",
    "robustScalered = scaler.fit_transform(np.array(aggregated_data['hours_played']).reshape(-1, 1))\n",
    "aggregated_data['hours_played'] = robustScalered"
   ]
  },
  {
   "cell_type": "code",
   "execution_count": 83,
   "id": "d9a949aa",
   "metadata": {},
   "outputs": [
    {
     "data": {
      "text/plain": [
       "0.17543859649122806"
      ]
     },
     "execution_count": 83,
     "metadata": {},
     "output_type": "execute_result"
    }
   ],
   "source": [
    "min(aggregated_data['hours_played'])"
   ]
  },
  {
   "cell_type": "code",
   "execution_count": 84,
   "id": "5a4e13db",
   "metadata": {},
   "outputs": [
    {
     "data": {
      "text/html": [
       "<div>\n",
       "<style scoped>\n",
       "    .dataframe tbody tr th:only-of-type {\n",
       "        vertical-align: middle;\n",
       "    }\n",
       "\n",
       "    .dataframe tbody tr th {\n",
       "        vertical-align: top;\n",
       "    }\n",
       "\n",
       "    .dataframe thead th {\n",
       "        text-align: right;\n",
       "    }\n",
       "</style>\n",
       "<table border=\"1\" class=\"dataframe\">\n",
       "  <thead>\n",
       "    <tr style=\"text-align: right;\">\n",
       "      <th></th>\n",
       "      <th>user_id</th>\n",
       "      <th>game_name</th>\n",
       "      <th>purchase_type</th>\n",
       "      <th>hours_played</th>\n",
       "    </tr>\n",
       "  </thead>\n",
       "  <tbody>\n",
       "    <tr>\n",
       "      <th>0</th>\n",
       "      <td>5250</td>\n",
       "      <td>Alien Swarm</td>\n",
       "      <td>purchase</td>\n",
       "      <td>1.035088</td>\n",
       "    </tr>\n",
       "    <tr>\n",
       "      <th>1</th>\n",
       "      <td>5250</td>\n",
       "      <td>Cities Skylines</td>\n",
       "      <td>purchase</td>\n",
       "      <td>25.438596</td>\n",
       "    </tr>\n",
       "    <tr>\n",
       "      <th>2</th>\n",
       "      <td>5250</td>\n",
       "      <td>Counter-Strike</td>\n",
       "      <td>purchase</td>\n",
       "      <td>0.175439</td>\n",
       "    </tr>\n",
       "    <tr>\n",
       "      <th>3</th>\n",
       "      <td>5250</td>\n",
       "      <td>Counter-Strike Source</td>\n",
       "      <td>purchase</td>\n",
       "      <td>0.175439</td>\n",
       "    </tr>\n",
       "    <tr>\n",
       "      <th>4</th>\n",
       "      <td>5250</td>\n",
       "      <td>Day of Defeat</td>\n",
       "      <td>purchase</td>\n",
       "      <td>0.175439</td>\n",
       "    </tr>\n",
       "    <tr>\n",
       "      <th>...</th>\n",
       "      <td>...</td>\n",
       "      <td>...</td>\n",
       "      <td>...</td>\n",
       "      <td>...</td>\n",
       "    </tr>\n",
       "    <tr>\n",
       "      <th>128804</th>\n",
       "      <td>999999999</td>\n",
       "      <td>Spore</td>\n",
       "      <td>purchase</td>\n",
       "      <td>3.508772</td>\n",
       "    </tr>\n",
       "    <tr>\n",
       "      <th>128805</th>\n",
       "      <td>999999999</td>\n",
       "      <td>Terraria</td>\n",
       "      <td>purchase</td>\n",
       "      <td>1.754386</td>\n",
       "    </tr>\n",
       "    <tr>\n",
       "      <th>128806</th>\n",
       "      <td>999999999</td>\n",
       "      <td>The Sims(TM) 3</td>\n",
       "      <td>purchase</td>\n",
       "      <td>1.754386</td>\n",
       "    </tr>\n",
       "    <tr>\n",
       "      <th>128807</th>\n",
       "      <td>999999999</td>\n",
       "      <td>Rocket League</td>\n",
       "      <td>purchase</td>\n",
       "      <td>1.403509</td>\n",
       "    </tr>\n",
       "    <tr>\n",
       "      <th>128808</th>\n",
       "      <td>999999999</td>\n",
       "      <td>LEGO Harry Potter Years 5-7</td>\n",
       "      <td>purchase</td>\n",
       "      <td>0.526316</td>\n",
       "    </tr>\n",
       "  </tbody>\n",
       "</table>\n",
       "<p>128809 rows × 4 columns</p>\n",
       "</div>"
      ],
      "text/plain": [
       "          user_id                    game_name purchase_type  hours_played\n",
       "0            5250                  Alien Swarm      purchase      1.035088\n",
       "1            5250              Cities Skylines      purchase     25.438596\n",
       "2            5250               Counter-Strike      purchase      0.175439\n",
       "3            5250        Counter-Strike Source      purchase      0.175439\n",
       "4            5250                Day of Defeat      purchase      0.175439\n",
       "...           ...                          ...           ...           ...\n",
       "128804  999999999                        Spore      purchase      3.508772\n",
       "128805  999999999                     Terraria      purchase      1.754386\n",
       "128806  999999999               The Sims(TM) 3      purchase      1.754386\n",
       "128807  999999999                Rocket League      purchase      1.403509\n",
       "128808  999999999  LEGO Harry Potter Years 5-7      purchase      0.526316\n",
       "\n",
       "[128809 rows x 4 columns]"
      ]
     },
     "execution_count": 84,
     "metadata": {},
     "output_type": "execute_result"
    }
   ],
   "source": [
    "aggregated_data"
   ]
  },
  {
   "cell_type": "markdown",
   "id": "a3859971",
   "metadata": {},
   "source": [
    "## Building Item & User Matrices"
   ]
  },
  {
   "cell_type": "code",
   "execution_count": 85,
   "id": "30b72d11",
   "metadata": {},
   "outputs": [],
   "source": [
    "# Pivot the data to get a user-item matrix\n",
    "user_item_matrix = aggregated_data.pivot_table(index='user_id', columns='game_name', values='hours_played', fill_value=0)"
   ]
  },
  {
   "cell_type": "markdown",
   "id": "05ec233f",
   "metadata": {},
   "source": [
    "I use cosine similarity as the metric to determine similarity for a few reasons. For one, I think the magnitude that a user has played all the games are not that significant (i.e. I would consider John, who played 1 hour of Game A and 3 hours of Game B to be similar to Jakob, who played 10 hours of Game A and 30 hours of Game B). It, also, tends to group together users who both have non-zero hours_played for the same games, and is known for handling sparse data well!"
   ]
  },
  {
   "cell_type": "code",
   "execution_count": 86,
   "id": "ac136035",
   "metadata": {},
   "outputs": [],
   "source": [
    "# Assuming user_item_matrix now contains 'hours_played' values\n",
    "user_similarity_matrix = cosine_similarity(user_item_matrix)\n",
    "user_similarity_matrix = pd.DataFrame(user_similarity_matrix, index=user_item_matrix.index, columns=user_item_matrix.index)"
   ]
  },
  {
   "cell_type": "code",
   "execution_count": 87,
   "id": "900f0846",
   "metadata": {},
   "outputs": [
    {
     "data": {
      "text/html": [
       "<div>\n",
       "<style scoped>\n",
       "    .dataframe tbody tr th:only-of-type {\n",
       "        vertical-align: middle;\n",
       "    }\n",
       "\n",
       "    .dataframe tbody tr th {\n",
       "        vertical-align: top;\n",
       "    }\n",
       "\n",
       "    .dataframe thead th {\n",
       "        text-align: right;\n",
       "    }\n",
       "</style>\n",
       "<table border=\"1\" class=\"dataframe\">\n",
       "  <thead>\n",
       "    <tr style=\"text-align: right;\">\n",
       "      <th>user_id</th>\n",
       "      <th>5250</th>\n",
       "      <th>76767</th>\n",
       "      <th>86540</th>\n",
       "      <th>103360</th>\n",
       "      <th>144736</th>\n",
       "      <th>181212</th>\n",
       "      <th>229911</th>\n",
       "      <th>298950</th>\n",
       "      <th>299153</th>\n",
       "      <th>381543</th>\n",
       "      <th>...</th>\n",
       "      <th>309265377</th>\n",
       "      <th>309375103</th>\n",
       "      <th>309404240</th>\n",
       "      <th>309434439</th>\n",
       "      <th>309554670</th>\n",
       "      <th>309626088</th>\n",
       "      <th>309812026</th>\n",
       "      <th>309824202</th>\n",
       "      <th>309903146</th>\n",
       "      <th>999999999</th>\n",
       "    </tr>\n",
       "    <tr>\n",
       "      <th>user_id</th>\n",
       "      <th></th>\n",
       "      <th></th>\n",
       "      <th></th>\n",
       "      <th></th>\n",
       "      <th></th>\n",
       "      <th></th>\n",
       "      <th></th>\n",
       "      <th></th>\n",
       "      <th></th>\n",
       "      <th></th>\n",
       "      <th></th>\n",
       "      <th></th>\n",
       "      <th></th>\n",
       "      <th></th>\n",
       "      <th></th>\n",
       "      <th></th>\n",
       "      <th></th>\n",
       "      <th></th>\n",
       "      <th></th>\n",
       "      <th></th>\n",
       "      <th></th>\n",
       "    </tr>\n",
       "  </thead>\n",
       "  <tbody>\n",
       "    <tr>\n",
       "      <th>5250</th>\n",
       "      <td>1.000000</td>\n",
       "      <td>0.007580</td>\n",
       "      <td>0.004095</td>\n",
       "      <td>0.015917</td>\n",
       "      <td>0.017786</td>\n",
       "      <td>0.020078</td>\n",
       "      <td>0.002250</td>\n",
       "      <td>0.022816</td>\n",
       "      <td>0.020178</td>\n",
       "      <td>0.013842</td>\n",
       "      <td>...</td>\n",
       "      <td>0.0</td>\n",
       "      <td>0.0</td>\n",
       "      <td>0.002437</td>\n",
       "      <td>0.00755</td>\n",
       "      <td>0.0</td>\n",
       "      <td>0.000000</td>\n",
       "      <td>0.0</td>\n",
       "      <td>0.00755</td>\n",
       "      <td>0.00755</td>\n",
       "      <td>0.0</td>\n",
       "    </tr>\n",
       "    <tr>\n",
       "      <th>76767</th>\n",
       "      <td>0.007580</td>\n",
       "      <td>1.000000</td>\n",
       "      <td>0.005717</td>\n",
       "      <td>0.221230</td>\n",
       "      <td>0.268039</td>\n",
       "      <td>0.444942</td>\n",
       "      <td>0.342244</td>\n",
       "      <td>0.005297</td>\n",
       "      <td>0.199965</td>\n",
       "      <td>0.550474</td>\n",
       "      <td>...</td>\n",
       "      <td>0.0</td>\n",
       "      <td>0.0</td>\n",
       "      <td>0.000000</td>\n",
       "      <td>0.00000</td>\n",
       "      <td>0.0</td>\n",
       "      <td>0.026361</td>\n",
       "      <td>0.0</td>\n",
       "      <td>0.00000</td>\n",
       "      <td>0.00000</td>\n",
       "      <td>0.0</td>\n",
       "    </tr>\n",
       "    <tr>\n",
       "      <th>86540</th>\n",
       "      <td>0.004095</td>\n",
       "      <td>0.005717</td>\n",
       "      <td>1.000000</td>\n",
       "      <td>0.018544</td>\n",
       "      <td>0.020722</td>\n",
       "      <td>0.017791</td>\n",
       "      <td>0.002146</td>\n",
       "      <td>0.106874</td>\n",
       "      <td>0.017632</td>\n",
       "      <td>0.016126</td>\n",
       "      <td>...</td>\n",
       "      <td>0.0</td>\n",
       "      <td>0.0</td>\n",
       "      <td>0.000000</td>\n",
       "      <td>0.00000</td>\n",
       "      <td>0.0</td>\n",
       "      <td>0.012461</td>\n",
       "      <td>0.0</td>\n",
       "      <td>0.00000</td>\n",
       "      <td>0.00000</td>\n",
       "      <td>0.0</td>\n",
       "    </tr>\n",
       "    <tr>\n",
       "      <th>103360</th>\n",
       "      <td>0.015917</td>\n",
       "      <td>0.221230</td>\n",
       "      <td>0.018544</td>\n",
       "      <td>1.000000</td>\n",
       "      <td>0.893950</td>\n",
       "      <td>0.696456</td>\n",
       "      <td>0.333303</td>\n",
       "      <td>0.002217</td>\n",
       "      <td>0.845154</td>\n",
       "      <td>0.822192</td>\n",
       "      <td>...</td>\n",
       "      <td>0.0</td>\n",
       "      <td>0.0</td>\n",
       "      <td>0.000000</td>\n",
       "      <td>0.00000</td>\n",
       "      <td>0.0</td>\n",
       "      <td>0.000000</td>\n",
       "      <td>0.0</td>\n",
       "      <td>0.00000</td>\n",
       "      <td>0.00000</td>\n",
       "      <td>0.0</td>\n",
       "    </tr>\n",
       "    <tr>\n",
       "      <th>144736</th>\n",
       "      <td>0.017786</td>\n",
       "      <td>0.268039</td>\n",
       "      <td>0.020722</td>\n",
       "      <td>0.893950</td>\n",
       "      <td>1.000000</td>\n",
       "      <td>0.790599</td>\n",
       "      <td>0.097327</td>\n",
       "      <td>0.002491</td>\n",
       "      <td>0.755526</td>\n",
       "      <td>0.795725</td>\n",
       "      <td>...</td>\n",
       "      <td>0.0</td>\n",
       "      <td>0.0</td>\n",
       "      <td>0.000000</td>\n",
       "      <td>0.00000</td>\n",
       "      <td>0.0</td>\n",
       "      <td>0.000000</td>\n",
       "      <td>0.0</td>\n",
       "      <td>0.00000</td>\n",
       "      <td>0.00000</td>\n",
       "      <td>0.0</td>\n",
       "    </tr>\n",
       "    <tr>\n",
       "      <th>...</th>\n",
       "      <td>...</td>\n",
       "      <td>...</td>\n",
       "      <td>...</td>\n",
       "      <td>...</td>\n",
       "      <td>...</td>\n",
       "      <td>...</td>\n",
       "      <td>...</td>\n",
       "      <td>...</td>\n",
       "      <td>...</td>\n",
       "      <td>...</td>\n",
       "      <td>...</td>\n",
       "      <td>...</td>\n",
       "      <td>...</td>\n",
       "      <td>...</td>\n",
       "      <td>...</td>\n",
       "      <td>...</td>\n",
       "      <td>...</td>\n",
       "      <td>...</td>\n",
       "      <td>...</td>\n",
       "      <td>...</td>\n",
       "      <td>...</td>\n",
       "    </tr>\n",
       "    <tr>\n",
       "      <th>309626088</th>\n",
       "      <td>0.000000</td>\n",
       "      <td>0.026361</td>\n",
       "      <td>0.012461</td>\n",
       "      <td>0.000000</td>\n",
       "      <td>0.000000</td>\n",
       "      <td>0.000000</td>\n",
       "      <td>0.000000</td>\n",
       "      <td>0.001815</td>\n",
       "      <td>0.000000</td>\n",
       "      <td>0.000000</td>\n",
       "      <td>...</td>\n",
       "      <td>0.0</td>\n",
       "      <td>0.0</td>\n",
       "      <td>0.000000</td>\n",
       "      <td>0.00000</td>\n",
       "      <td>0.0</td>\n",
       "      <td>1.000000</td>\n",
       "      <td>0.0</td>\n",
       "      <td>0.00000</td>\n",
       "      <td>0.00000</td>\n",
       "      <td>0.0</td>\n",
       "    </tr>\n",
       "    <tr>\n",
       "      <th>309812026</th>\n",
       "      <td>0.000000</td>\n",
       "      <td>0.000000</td>\n",
       "      <td>0.000000</td>\n",
       "      <td>0.000000</td>\n",
       "      <td>0.000000</td>\n",
       "      <td>0.000000</td>\n",
       "      <td>0.000000</td>\n",
       "      <td>0.000000</td>\n",
       "      <td>0.000000</td>\n",
       "      <td>0.000000</td>\n",
       "      <td>...</td>\n",
       "      <td>0.0</td>\n",
       "      <td>0.0</td>\n",
       "      <td>0.000000</td>\n",
       "      <td>0.00000</td>\n",
       "      <td>0.0</td>\n",
       "      <td>0.000000</td>\n",
       "      <td>1.0</td>\n",
       "      <td>0.00000</td>\n",
       "      <td>0.00000</td>\n",
       "      <td>0.0</td>\n",
       "    </tr>\n",
       "    <tr>\n",
       "      <th>309824202</th>\n",
       "      <td>0.007550</td>\n",
       "      <td>0.000000</td>\n",
       "      <td>0.000000</td>\n",
       "      <td>0.000000</td>\n",
       "      <td>0.000000</td>\n",
       "      <td>0.000000</td>\n",
       "      <td>0.000000</td>\n",
       "      <td>0.001237</td>\n",
       "      <td>0.000000</td>\n",
       "      <td>0.000000</td>\n",
       "      <td>...</td>\n",
       "      <td>0.0</td>\n",
       "      <td>0.0</td>\n",
       "      <td>0.000000</td>\n",
       "      <td>1.00000</td>\n",
       "      <td>0.0</td>\n",
       "      <td>0.000000</td>\n",
       "      <td>0.0</td>\n",
       "      <td>1.00000</td>\n",
       "      <td>1.00000</td>\n",
       "      <td>0.0</td>\n",
       "    </tr>\n",
       "    <tr>\n",
       "      <th>309903146</th>\n",
       "      <td>0.007550</td>\n",
       "      <td>0.000000</td>\n",
       "      <td>0.000000</td>\n",
       "      <td>0.000000</td>\n",
       "      <td>0.000000</td>\n",
       "      <td>0.000000</td>\n",
       "      <td>0.000000</td>\n",
       "      <td>0.001237</td>\n",
       "      <td>0.000000</td>\n",
       "      <td>0.000000</td>\n",
       "      <td>...</td>\n",
       "      <td>0.0</td>\n",
       "      <td>0.0</td>\n",
       "      <td>0.000000</td>\n",
       "      <td>1.00000</td>\n",
       "      <td>0.0</td>\n",
       "      <td>0.000000</td>\n",
       "      <td>0.0</td>\n",
       "      <td>1.00000</td>\n",
       "      <td>1.00000</td>\n",
       "      <td>0.0</td>\n",
       "    </tr>\n",
       "    <tr>\n",
       "      <th>999999999</th>\n",
       "      <td>0.000000</td>\n",
       "      <td>0.000000</td>\n",
       "      <td>0.000000</td>\n",
       "      <td>0.000000</td>\n",
       "      <td>0.000000</td>\n",
       "      <td>0.000000</td>\n",
       "      <td>0.000000</td>\n",
       "      <td>0.040387</td>\n",
       "      <td>0.000000</td>\n",
       "      <td>0.000000</td>\n",
       "      <td>...</td>\n",
       "      <td>0.0</td>\n",
       "      <td>0.0</td>\n",
       "      <td>0.000000</td>\n",
       "      <td>0.00000</td>\n",
       "      <td>0.0</td>\n",
       "      <td>0.000000</td>\n",
       "      <td>0.0</td>\n",
       "      <td>0.00000</td>\n",
       "      <td>0.00000</td>\n",
       "      <td>1.0</td>\n",
       "    </tr>\n",
       "  </tbody>\n",
       "</table>\n",
       "<p>12394 rows × 12394 columns</p>\n",
       "</div>"
      ],
      "text/plain": [
       "user_id    5250       76767      86540      103360     144736     181212     \\\n",
       "user_id                                                                       \n",
       "5250        1.000000   0.007580   0.004095   0.015917   0.017786   0.020078   \n",
       "76767       0.007580   1.000000   0.005717   0.221230   0.268039   0.444942   \n",
       "86540       0.004095   0.005717   1.000000   0.018544   0.020722   0.017791   \n",
       "103360      0.015917   0.221230   0.018544   1.000000   0.893950   0.696456   \n",
       "144736      0.017786   0.268039   0.020722   0.893950   1.000000   0.790599   \n",
       "...              ...        ...        ...        ...        ...        ...   \n",
       "309626088   0.000000   0.026361   0.012461   0.000000   0.000000   0.000000   \n",
       "309812026   0.000000   0.000000   0.000000   0.000000   0.000000   0.000000   \n",
       "309824202   0.007550   0.000000   0.000000   0.000000   0.000000   0.000000   \n",
       "309903146   0.007550   0.000000   0.000000   0.000000   0.000000   0.000000   \n",
       "999999999   0.000000   0.000000   0.000000   0.000000   0.000000   0.000000   \n",
       "\n",
       "user_id    229911     298950     299153     381543     ...  309265377  \\\n",
       "user_id                                                ...              \n",
       "5250        0.002250   0.022816   0.020178   0.013842  ...        0.0   \n",
       "76767       0.342244   0.005297   0.199965   0.550474  ...        0.0   \n",
       "86540       0.002146   0.106874   0.017632   0.016126  ...        0.0   \n",
       "103360      0.333303   0.002217   0.845154   0.822192  ...        0.0   \n",
       "144736      0.097327   0.002491   0.755526   0.795725  ...        0.0   \n",
       "...              ...        ...        ...        ...  ...        ...   \n",
       "309626088   0.000000   0.001815   0.000000   0.000000  ...        0.0   \n",
       "309812026   0.000000   0.000000   0.000000   0.000000  ...        0.0   \n",
       "309824202   0.000000   0.001237   0.000000   0.000000  ...        0.0   \n",
       "309903146   0.000000   0.001237   0.000000   0.000000  ...        0.0   \n",
       "999999999   0.000000   0.040387   0.000000   0.000000  ...        0.0   \n",
       "\n",
       "user_id    309375103  309404240  309434439  309554670  309626088  309812026  \\\n",
       "user_id                                                                       \n",
       "5250             0.0   0.002437    0.00755        0.0   0.000000        0.0   \n",
       "76767            0.0   0.000000    0.00000        0.0   0.026361        0.0   \n",
       "86540            0.0   0.000000    0.00000        0.0   0.012461        0.0   \n",
       "103360           0.0   0.000000    0.00000        0.0   0.000000        0.0   \n",
       "144736           0.0   0.000000    0.00000        0.0   0.000000        0.0   \n",
       "...              ...        ...        ...        ...        ...        ...   \n",
       "309626088        0.0   0.000000    0.00000        0.0   1.000000        0.0   \n",
       "309812026        0.0   0.000000    0.00000        0.0   0.000000        1.0   \n",
       "309824202        0.0   0.000000    1.00000        0.0   0.000000        0.0   \n",
       "309903146        0.0   0.000000    1.00000        0.0   0.000000        0.0   \n",
       "999999999        0.0   0.000000    0.00000        0.0   0.000000        0.0   \n",
       "\n",
       "user_id    309824202  309903146  999999999  \n",
       "user_id                                     \n",
       "5250         0.00755    0.00755        0.0  \n",
       "76767        0.00000    0.00000        0.0  \n",
       "86540        0.00000    0.00000        0.0  \n",
       "103360       0.00000    0.00000        0.0  \n",
       "144736       0.00000    0.00000        0.0  \n",
       "...              ...        ...        ...  \n",
       "309626088    0.00000    0.00000        0.0  \n",
       "309812026    0.00000    0.00000        0.0  \n",
       "309824202    1.00000    1.00000        0.0  \n",
       "309903146    1.00000    1.00000        0.0  \n",
       "999999999    0.00000    0.00000        1.0  \n",
       "\n",
       "[12394 rows x 12394 columns]"
      ]
     },
     "execution_count": 87,
     "metadata": {},
     "output_type": "execute_result"
    }
   ],
   "source": [
    "user_similarity_matrix"
   ]
  },
  {
   "cell_type": "code",
   "execution_count": 88,
   "id": "ce0f2e11",
   "metadata": {},
   "outputs": [
    {
     "name": "stdout",
     "output_type": "stream",
     "text": [
      "Hours Played Distribution\n",
      "Min: 0.17543859649122806\n",
      "25th percentile: 0.17543859649122806\n",
      "50th percentile: 0.22807017543859648\n",
      "75th percentile: 1.1754385964912282\n",
      "Max: 2062.280701754386\n"
     ]
    }
   ],
   "source": [
    "print(\"Hours Played Distribution\")\n",
    "print(\"Min: \"+ str(aggregated_data[\"hours_played\"].quantile(0)))\n",
    "print(\"25th percentile: \"+ str(aggregated_data[\"hours_played\"].quantile(0.25)))\n",
    "print(\"50th percentile: \"+ str(aggregated_data[\"hours_played\"].quantile(0.50)))\n",
    "print(\"75th percentile: \"+ str(aggregated_data[\"hours_played\"].quantile(0.75)))\n",
    "print(\"Max: \"+ str(aggregated_data[\"hours_played\"].quantile(1)))\n",
    "\n",
    "reasonable_max = aggregated_data[\"hours_played\"].quantile(0.75)"
   ]
  },
  {
   "cell_type": "markdown",
   "id": "28cba33a",
   "metadata": {},
   "source": [
    "Noting how outliers in play time can distort recommendations, I'm implementing a bounded influence approach. For each game-user pair:\n",
    "\n",
    "* I establish a minimum threshold at the 75th percentile to ensure games with low engagement still receive meaningful consideration, promoting recommendation diversity.\n",
    "* I implement an upper cap at the 95th percentile to prevent games with extremely high play times from dominating the recommendations.\n",
    "\n",
    "By bounding recommendation influence with max(min(hours_played, upper_bound), lower_bound), the algorithm balances recommendation quality - boosting less-played games while tempering the influence of extreme outliers.\n",
    "\n",
    "(I played around a bit with the numbers until I got an output that for me recommended good variety while effectively controlling for outlier play times)"
   ]
  },
  {
   "cell_type": "markdown",
   "id": "85fb1840",
   "metadata": {},
   "source": [
    "### Some Justification for the Choices I Made in my Algorithm\n",
    "In the recommendation algorithm below, I select the 10 closest users to provide insight to each user. This is computationally very quick and provides more fun recommendations (in my experience with playing around with this number) than using, say, the closest 500 users. It sorts through each game and adds when a game is played by one of these similar users. Most recommendation algorithms will then 'normalize' the feature by the user giving it (i.e. dividing by a user's average rating) to get more reliable results. In this instance, I think this is less helpful, because I actually want to give a user who plays the game more than another similar user more sway (although I do cap it at a certain level so players who play a ton are not biasing the results). The games are then sorted by highest score and the closest 5 are recommended."
   ]
  },
  {
   "cell_type": "code",
   "execution_count": 89,
   "id": "d6b11407",
   "metadata": {},
   "outputs": [],
   "source": [
    "def recommend_games(user_id, user_similarity_matrix, user_item_matrix, top_n=5, closest_users=10):\n",
    "    # Get similarity scores for the target user, excluding themselves\n",
    "    user_similarities = user_similarity_matrix.loc[user_id].drop(user_id)\n",
    "    \n",
    "    # Find the closest users based on similarity scores\n",
    "    closest_users_scores = user_similarities.nlargest(closest_users)\n",
    "    \n",
    "    # Identify games the target user has already played\n",
    "    played_games = user_item_matrix.loc[user_id]\n",
    "    played_games = played_games[played_games > 0].index\n",
    "    \n",
    "    recommendations = {}\n",
    "    \n",
    "    # Iterate through the closest similar users and their similarity scores\n",
    "    for other_user, similarity_score in closest_users_scores.items():\n",
    "        # Get the hours played for games by the similar user\n",
    "        other_user_games = user_item_matrix.loc[other_user]\n",
    "        \n",
    "        # Iterate through games played by the similar user\n",
    "        for game, hours_played in other_user_games.items():\n",
    "            # Exclude games played by the target user\n",
    "            if game not in played_games and hours_played > 0:\n",
    "                if game not in recommendations:\n",
    "                    recommendations[game] = 0\n",
    "                # Calculate both thresholds\n",
    "                lower_bound = aggregated_data[\"hours_played\"].quantile(0.75)  # Minimum threshold\n",
    "                upper_bound = aggregated_data[\"hours_played\"].quantile(0.95)  # Maximum cap\n",
    "\n",
    "                # Add the game impact\n",
    "                recommendations[game] += max(min(hours_played, upper_bound), lower_bound) * similarity_score    \n",
    "    # Sort the games based on the accumulated scores\n",
    "    recommended_games = sorted(recommendations.items(), key=lambda x: x[1], reverse=True)\n",
    "    # Return the top N recommended game names\n",
    "    return [game for game, _ in recommended_games][:top_n]"
   ]
  },
  {
   "cell_type": "markdown",
   "id": "f8bb0198",
   "metadata": {},
   "source": [
    "## Analyze Results"
   ]
  },
  {
   "cell_type": "markdown",
   "id": "2524cb45",
   "metadata": {},
   "source": [
    "Here I would just like to see what it recommends for me to get a good first look into how this recommender is doing."
   ]
  },
  {
   "cell_type": "code",
   "execution_count": 90,
   "id": "36dd87cd",
   "metadata": {},
   "outputs": [
    {
     "data": {
      "text/plain": [
       "[\"Sid Meier's Civilization V\",\n",
       " 'Team Fortress 2',\n",
       " \"Sid Meier's Civilization Beyond Earth\",\n",
       " 'The Elder Scrolls V Skyrim',\n",
       " 'Unturned',\n",
       " \"Garry's Mod\",\n",
       " 'Game Dev Tycoon',\n",
       " 'XCOM Enemy Unknown',\n",
       " 'South Park The Stick of Truth',\n",
       " 'Kerbal Space Program']"
      ]
     },
     "execution_count": 90,
     "metadata": {},
     "output_type": "execute_result"
    }
   ],
   "source": [
    "recommend_games(999999999, user_similarity_matrix, user_item_matrix,top_n=10)"
   ]
  },
  {
   "cell_type": "markdown",
   "id": "1ec5c8d6",
   "metadata": {},
   "source": [
    "I'm actually really pleased. I intentionally picked games that are friendlier, more creative, and unique, and believe I got good recommenders that remind me of the spirit of the games I chose for my entries. The top game recommended to me: \"Sid Meier's Civilization V\" has been recommended to me a handful of times by multiple friends, completely independently of this process, so that's a good sign that we have a good recommender! Additionally, games like Team Fortress, Unturned, Garry's Mod, Game Dev Tycoon, South Park, and Kerbel Space Program all fit very obviously into the theme of games I picked- less serious, quirky graphics and gameplay, and emphasis on creative fun (like sims, terraria, lego harry potter, rocket league, and spore, the games I input for myself). My friend even told me \"Oh Dominic you would love Kerbal Space Program,\" after I told him my recommender recommended it to me."
   ]
  },
  {
   "cell_type": "markdown",
   "id": "40ebc00e",
   "metadata": {},
   "source": [
    "### What Now?"
   ]
  },
  {
   "cell_type": "markdown",
   "id": "e66b7ecc",
   "metadata": {},
   "source": [
    "Not shown, I manually selected some random users and saw what games were recommended and the games that user liked, and all of the recommendations looked good to my informal visual inspection. For my purposes, this algorithm is great! It recommended for me and for some friends interesting games that seem well-suited for us. Were this algorithm to go into production on a site like Steam, some fine tuning could definitely be helpful. Here are some parts of the algorithm I'd consider tweaking:\n",
    "\n",
    " * **closest_users**: In my algorithm, I only take the ten closest users and use them to generate the recommendation. This makes the computation much quicker. I initially suspected that increasing this variable as much as possible would improve the reliability of the recommendations (as bigger sample sizes tend to help), which is likely true. But I found that the recommendations got a lot less niche and generally felt less specialized to the user at hand and more broader recommendations of more popular games that a lot of users like. Personally, I found that keeping this low gave me more interesting recommendations. But I would love to run this model at varying closest_user levels across different users and track metrics like clicks and downloads to see what number is most effective.\n",
    " * **hours_played**: I make the assumption that it would be best to not normalize each user's play time with itself (i.e. scale down the hours_played by user so each user has the same mean average time played per game). I still think my decision was right, but it could be worth comparing the performance of each. This could also help in having a more interpretable figure for implicit analysis.\n",
    " * **recommendation score accumulation**:  Additionally, The recommendations actually changed a lot as the number of closest users changed, this might suggest that I should have to weight the similarity score more strongly in the calculation so these different algorithms converge a little more. Like adding normalized hours_played * similarity_score^2 instead of just hours_played * similarity_score, for example.\n",
    " \n",
    "For my purposes I think it is unnecessary to conduct implicit analysis, but if I were to, I think the simplest approach would be to randomly select m users and look at the recommended games and personally classify each as relevent or not and calculate precision@k and recall@k for each. If I integrated this model onto a high traffic environment, I would also build multiple models to put in and track metrics like click-rate, buy-rate, and play time of recommended games to compare and enhance the model with time and use."
   ]
  },
  {
   "cell_type": "markdown",
   "id": "ea2459fc",
   "metadata": {},
   "source": [
    "## The end\n",
    "I made an effective user-user collaborative filtering model for recommending games to users (with at least one game played) that I'm happy with. With an awareness of the cold start problems associated with recommender systems of this kind in implementation, I think it's a very useful model. Most importantly (for me), I liked the games it recommended me and am excited to try them!"
   ]
  }
 ],
 "metadata": {
  "kernelspec": {
   "display_name": "Python 3",
   "language": "python",
   "name": "python3"
  },
  "language_info": {
   "codemirror_mode": {
    "name": "ipython",
    "version": 3
   },
   "file_extension": ".py",
   "mimetype": "text/x-python",
   "name": "python",
   "nbconvert_exporter": "python",
   "pygments_lexer": "ipython3",
   "version": "3.11.4"
  }
 },
 "nbformat": 4,
 "nbformat_minor": 5
}
